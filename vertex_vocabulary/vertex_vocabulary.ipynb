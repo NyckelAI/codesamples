{
 "cells": [
  {
   "cell_type": "code",
   "execution_count": 64,
   "metadata": {},
   "outputs": [
    {
     "name": "stdout",
     "output_type": "stream",
     "text": [
      "File count: 32\n",
      "Sample count per file: 15625\n",
      "part-00000-5b54c5d5-bbcf-484d-a2ce-0d6f73df1a36-c000.snappy.parquet\n",
      "Index(['SAMPLE_ID', 'URL', 'TEXT', 'HEIGHT', 'WIDTH', 'LICENSE', 'NSFW',\n",
      "       'similarity'],\n",
      "      dtype='object')\n"
     ]
    }
   ],
   "source": [
    "import os\n",
    "import random\n",
    "import kaggle.api as kaggle\n",
    "import pandas as pd\n",
    "import shutil\n",
    "\n",
    "# The kaggle python API calls below are documented here: https://www.kaggle.com/code/donkeys/kaggle-python-api/notebook\n",
    "\n",
    "# Make sure ~/.kaggle/kaggle.json is set up. If not, go to https://www.kaggle.com/<username>/account to create a new\n",
    "# API token, which downloads a kaggle.json file. Move that file to ~/.kaggle/kaggle.json. Then run the following:\n",
    "kaggle.authenticate()\n",
    "\n",
    "# Get the dataset at https://www.kaggle.com/datasets/romainbeaumont/laion400m\n",
    "dataset = kaggle.dataset_list(user=\"romainbeaumont\", search=\"laion400m\")[0]\n",
    "\n",
    "file_result = kaggle.dataset_list_files(dataset.ref)\n",
    "files = file_result.files\n",
    "# Sort files by file name\n",
    "files.sort(key=lambda x: x.name)\n",
    "\n",
    "# Count the number of files\n",
    "file_count = len(files)\n",
    "# We want to get a random sample of 500,000 rows from the dataset.\n",
    "random_sample_count = 500000\n",
    "sample_count_per_file = random_sample_count // file_count\n",
    "print(f\"File count: {file_count}\")\n",
    "print(f\"Sample count per file: {sample_count_per_file}\")\n",
    "\n",
    "# For now, load the first file in the dataset.\n",
    "for file in files[:1]:\n",
    "    print(file.name)\n",
    "    print(\"Downloading file...\")\n",
    "    kaggle.dataset_download_file(\n",
    "        dataset.ref, file.name, path=file.name, force=False)\n",
    "    # Unzip the file into the same directory as the zip file itself, if it doesn't already exist\n",
    "    if not os.path.exists(f\"{file.name}/{file.name}\"):\n",
    "        print(\"Unzipping file...\")\n",
    "        shutil.unpack_archive(\n",
    "            f\"{file.name}/{file.name}.zip\", extract_dir=file.name, format=\"zip\")\n",
    "\n",
    "    # Load the parquet file into a pandas dataframe\n",
    "    print(\"Reading in parquet...\")\n",
    "    df = pd.read_parquet(f\"{file.name}/{file.name}\")\n",
    "    print(df.columns)\n",
    "    # Get a random subset of sample_count_per_file rows from the dataframe, with a fixed random seed\n",
    "    subset = df.sample(sample_count_per_file, random_state=984324482)\n"
   ]
  },
  {
   "cell_type": "code",
   "execution_count": 66,
   "metadata": {},
   "outputs": [
    {
     "name": "stdout",
     "output_type": "stream",
     "text": [
      "https://cdn7.bigcommerce.com/s-3bz7p8je/images/stencil/100x100/products/864/2656/IMG_9842_2__11423.1530831602.jpg?c=2\n",
      "http://lh5.ggpht.com/jM-VjylVgjFE8zxh91NO7-Zx-8xE4HKgrMcCpx7eXVf83SuuVpDoVPMNpW_2d3B43GBG=w120\n",
      "http://ecx.images-amazon.com/images/I/41P%2BMqOoefL._SL205.jpg\n",
      "http://rlv.zcache.co.uk/ancient_rome_colosseum_round_sticker-rf5cf5b2dd3684e5ca00be62f57380bc1_v9waf_8byvr_152.jpg\n",
      "http://image.made-in-china.com/43f34j00EvaTlVnCurpt/Slb-0837-Replacement-Digital-Camera-Battery-for-Samsung.jpg\n",
      "https://cdn.shopify.com/s/files/1/0276/0953/0443/products/73446_large_75acde69-5535-4738-8973-cbad17738b21_110x110@2x.jpg?v=1590846686\n",
      "http://i3.sigmapic.com/images/xsexcomics.com/136/937-bot-1.jpg\n",
      "http://matchbin-assets.s3.amazonaws.com/public/sites/165/assets/ILLU_wrestling_1.JPG\n",
      "http://img2.imagesbn.com/p/636943602027_p0_v1_s260x420.jpg\n",
      "http://d2q9kw5vp0we94.cloudfront.net/regular/31869.jpg\n"
     ]
    }
   ],
   "source": [
    "urls = subset[\"URL\"]\n",
    "\n",
    "for url in urls[:10]:\n",
    "    print(url)"
   ]
  }
 ],
 "metadata": {
  "kernelspec": {
   "display_name": "notebooks",
   "language": "python",
   "name": "python3"
  },
  "language_info": {
   "codemirror_mode": {
    "name": "ipython",
    "version": 3
   },
   "file_extension": ".py",
   "mimetype": "text/x-python",
   "name": "python",
   "nbconvert_exporter": "python",
   "pygments_lexer": "ipython3",
   "version": "3.8.12"
  },
  "orig_nbformat": 4,
  "vscode": {
   "interpreter": {
    "hash": "0ef0d79ca236209f92ec9c27a5e8bc6a914c9fee5b168cc453dd80be9512a804"
   }
  }
 },
 "nbformat": 4,
 "nbformat_minor": 2
}
